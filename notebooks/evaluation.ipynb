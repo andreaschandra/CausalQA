{
 "cells": [
  {
   "cell_type": "code",
   "execution_count": 1,
   "id": "e16ae3ef-9fc6-41d8-8b20-80a75a9ef2b6",
   "metadata": {},
   "outputs": [],
   "source": [
    "import evaluate"
   ]
  },
  {
   "cell_type": "code",
   "execution_count": 2,
   "id": "90acbe29-7f93-4f29-8d85-ff1de7e4b3d7",
   "metadata": {},
   "outputs": [
    {
     "data": {
      "application/vnd.jupyter.widget-view+json": {
       "model_id": "b29887742ced4f9bbf2539a5b9ec7113",
       "version_major": 2,
       "version_minor": 0
      },
      "text/plain": [
       "Downloading builder script:   0%|          | 0.00/4.20k [00:00<?, ?B/s]"
      ]
     },
     "metadata": {},
     "output_type": "display_data"
    }
   ],
   "source": [
    "accuracy = evaluate.load(\"accuracy\")"
   ]
  },
  {
   "cell_type": "code",
   "execution_count": 4,
   "id": "a7d938e5-7215-4bc0-a5be-375164f7b3fb",
   "metadata": {},
   "outputs": [
    {
     "name": "stdout",
     "output_type": "stream",
     "text": [
      "\n",
      "Accuracy is the proportion of correct predictions among the total number of cases processed. It can be computed with:\n",
      "Accuracy = (TP + TN) / (TP + TN + FP + FN)\n",
      " Where:\n",
      "TP: True positive\n",
      "TN: True negative\n",
      "FP: False positive\n",
      "FN: False negative\n",
      "\n"
     ]
    }
   ],
   "source": [
    "print(accuracy.description)"
   ]
  },
  {
   "cell_type": "code",
   "execution_count": 5,
   "id": "0bf068c8-aaf8-490a-a038-3b06c775c348",
   "metadata": {},
   "outputs": [
    {
     "name": "stdout",
     "output_type": "stream",
     "text": [
      "\n",
      "@article{scikit-learn,\n",
      "  title={Scikit-learn: Machine Learning in {P}ython},\n",
      "  author={Pedregosa, F. and Varoquaux, G. and Gramfort, A. and Michel, V.\n",
      "         and Thirion, B. and Grisel, O. and Blondel, M. and Prettenhofer, P.\n",
      "         and Weiss, R. and Dubourg, V. and Vanderplas, J. and Passos, A. and\n",
      "         Cournapeau, D. and Brucher, M. and Perrot, M. and Duchesnay, E.},\n",
      "  journal={Journal of Machine Learning Research},\n",
      "  volume={12},\n",
      "  pages={2825--2830},\n",
      "  year={2011}\n",
      "}\n",
      "\n"
     ]
    }
   ],
   "source": [
    "print(accuracy.citation)"
   ]
  },
  {
   "cell_type": "code",
   "execution_count": 6,
   "id": "38a0276e-e3e7-4713-a07b-7ce56fa00b76",
   "metadata": {},
   "outputs": [
    {
     "name": "stdout",
     "output_type": "stream",
     "text": [
      "{'predictions': Value(dtype='int32', id=None), 'references': Value(dtype='int32', id=None)}\n"
     ]
    }
   ],
   "source": [
    "print(accuracy.features)"
   ]
  },
  {
   "cell_type": "code",
   "execution_count": 7,
   "id": "44e007b0-b846-4c2f-a172-7253c463bb50",
   "metadata": {},
   "outputs": [
    {
     "data": {
      "text/plain": [
       "{'accuracy': 0.5}"
      ]
     },
     "execution_count": 7,
     "metadata": {},
     "output_type": "execute_result"
    }
   ],
   "source": [
    "accuracy.compute(references=[0,1,0,1], predictions=[1,0,0,1])"
   ]
  },
  {
   "cell_type": "code",
   "execution_count": 8,
   "id": "f9381c77-7771-4a05-bebf-edbceac0f729",
   "metadata": {},
   "outputs": [],
   "source": [
    "for ref, pred in zip([0,1,0,1], [1,0,0,1]):\n",
    "    accuracy.add(references=ref, predictions=pred)"
   ]
  },
  {
   "cell_type": "code",
   "execution_count": 9,
   "id": "bed32f9d-5e3e-4576-a8c4-303845028c33",
   "metadata": {},
   "outputs": [
    {
     "data": {
      "text/plain": [
       "{'accuracy': 0.5}"
      ]
     },
     "execution_count": 9,
     "metadata": {},
     "output_type": "execute_result"
    }
   ],
   "source": [
    "accuracy.compute()"
   ]
  },
  {
   "cell_type": "code",
   "execution_count": 12,
   "id": "9fc512ab-5c0c-4ff2-aecd-53b9ea0a566a",
   "metadata": {},
   "outputs": [],
   "source": [
    "for refs, preds in zip([[0,1],[0,1]], [[1,0],[0,1]]):\n",
    "    accuracy.add_batch(references=refs, predictions=preds)"
   ]
  },
  {
   "cell_type": "code",
   "execution_count": 13,
   "id": "52908ee7-d5aa-432e-8dc6-dfd4a0c97239",
   "metadata": {},
   "outputs": [
    {
     "data": {
      "text/plain": [
       "{'accuracy': 0.5}"
      ]
     },
     "execution_count": 13,
     "metadata": {},
     "output_type": "execute_result"
    }
   ],
   "source": [
    "accuracy.compute()"
   ]
  },
  {
   "cell_type": "code",
   "execution_count": 14,
   "id": "c1921ae8-5e2a-4e31-9cce-c6d27a24f07d",
   "metadata": {},
   "outputs": [
    {
     "data": {
      "application/vnd.jupyter.widget-view+json": {
       "model_id": "4ee0c87152fb487b8bc6ea63b6cf3d5c",
       "version_major": 2,
       "version_minor": 0
      },
      "text/plain": [
       "Downloading builder script:   0%|          | 0.00/6.77k [00:00<?, ?B/s]"
      ]
     },
     "metadata": {},
     "output_type": "display_data"
    },
    {
     "data": {
      "application/vnd.jupyter.widget-view+json": {
       "model_id": "5d0f77e7fa9b461387638af3dbebabff",
       "version_major": 2,
       "version_minor": 0
      },
      "text/plain": [
       "Downloading builder script:   0%|          | 0.00/7.55k [00:00<?, ?B/s]"
      ]
     },
     "metadata": {},
     "output_type": "display_data"
    },
    {
     "data": {
      "application/vnd.jupyter.widget-view+json": {
       "model_id": "d384cfc3fe434dae811b939d3518fda8",
       "version_major": 2,
       "version_minor": 0
      },
      "text/plain": [
       "Downloading builder script:   0%|          | 0.00/7.36k [00:00<?, ?B/s]"
      ]
     },
     "metadata": {},
     "output_type": "display_data"
    }
   ],
   "source": [
    "clf_metrics = evaluate.combine([\"accuracy\", \"f1\", \"precision\", \"recall\"])"
   ]
  },
  {
   "cell_type": "code",
   "execution_count": 15,
   "id": "65465d3c-a1a9-497f-93f0-97f98f727431",
   "metadata": {},
   "outputs": [
    {
     "data": {
      "text/plain": [
       "{'accuracy': 0.6666666666666666,\n",
       " 'f1': 0.6666666666666666,\n",
       " 'precision': 1.0,\n",
       " 'recall': 0.5}"
      ]
     },
     "execution_count": 15,
     "metadata": {},
     "output_type": "execute_result"
    }
   ],
   "source": [
    "clf_metrics.compute(predictions=[0, 1, 0], references=[0, 1, 1])"
   ]
  },
  {
   "cell_type": "markdown",
   "id": "de360ba2-62af-403b-901f-006c4ac7448c",
   "metadata": {},
   "source": [
    "# SQuAD"
   ]
  },
  {
   "cell_type": "code",
   "execution_count": 17,
   "id": "22067217-ae16-4699-bac0-dd9710cbddb9",
   "metadata": {},
   "outputs": [
    {
     "data": {
      "application/vnd.jupyter.widget-view+json": {
       "model_id": "b745aae39b994e0d955589aed3c1128e",
       "version_major": 2,
       "version_minor": 0
      },
      "text/plain": [
       "Downloading builder script:   0%|          | 0.00/6.47k [00:00<?, ?B/s]"
      ]
     },
     "metadata": {},
     "output_type": "display_data"
    },
    {
     "data": {
      "application/vnd.jupyter.widget-view+json": {
       "model_id": "776f6c3db8864daeae0290e901e93275",
       "version_major": 2,
       "version_minor": 0
      },
      "text/plain": [
       "Downloading extra modules:   0%|          | 0.00/11.3k [00:00<?, ?B/s]"
      ]
     },
     "metadata": {},
     "output_type": "display_data"
    }
   ],
   "source": [
    "squad_metric = evaluate.load(\"squad_v2\")"
   ]
  },
  {
   "cell_type": "code",
   "execution_count": 19,
   "id": "60383e44-b881-4605-bdea-c32d392f6196",
   "metadata": {},
   "outputs": [],
   "source": [
    "predictions = [{'prediction_text': '1976', 'id': '56e10a3be3433e1400422b22', 'no_answer_probability': 0.}]\n",
    "references = [{'answers': {'answer_start': [97], 'text': ['1976']}, 'id': '56e10a3be3433e1400422b22'}]"
   ]
  },
  {
   "cell_type": "code",
   "execution_count": 20,
   "id": "d5aa38b2-a2f8-4503-a42d-8b0368051c87",
   "metadata": {},
   "outputs": [],
   "source": [
    "results = squad_metric.compute(predictions=predictions, references=references)"
   ]
  },
  {
   "cell_type": "code",
   "execution_count": 21,
   "id": "a50bd35c-b4d6-4df0-a853-9f04a73792b4",
   "metadata": {},
   "outputs": [
    {
     "data": {
      "text/plain": [
       "{'exact': 100.0,\n",
       " 'f1': 100.0,\n",
       " 'total': 1,\n",
       " 'HasAns_exact': 100.0,\n",
       " 'HasAns_f1': 100.0,\n",
       " 'HasAns_total': 1,\n",
       " 'best_exact': 100.0,\n",
       " 'best_exact_thresh': 0.0,\n",
       " 'best_f1': 100.0,\n",
       " 'best_f1_thresh': 0.0}"
      ]
     },
     "execution_count": 21,
     "metadata": {},
     "output_type": "execute_result"
    }
   ],
   "source": [
    "results"
   ]
  },
  {
   "cell_type": "code",
   "execution_count": 33,
   "id": "309b0776-4892-44ae-bf97-2aa61c1d1ecb",
   "metadata": {},
   "outputs": [],
   "source": [
    "predictions = [\n",
    "    {'prediction_text': '', 'id': '56e10a3be3433e1400422b22', 'no_answer_probability': 0.}, \n",
    "    {'prediction_text': 'Beyonce', 'id': '56d2051ce7d4791d0090260b', 'no_answer_probability': 0.}, \n",
    "    {'prediction_text': 'climate change in world', 'id': '5733b5344776f419006610e1', 'no_answer_probability': 0.},\n",
    "    {'prediction_text': 'jakarta', 'id': '5733b5344776f419006610e2', 'no_answer_probability': 0.},\n",
    "    {'prediction_text': 'bandung', 'id': '5733b5344776f419006610e3', 'no_answer_probability': 0.}\n",
    "]\n",
    "references = [\n",
    "    {'answers': {'answer_start': [891], 'text': ['climate change in other world']}, 'id': '5733b5344776f419006610e1'},\n",
    "    {'answers': {'answer_start': [891], 'text': ['jakarta']}, 'id': '5733b5344776f419006610e2'},\n",
    "    {'answers': {'answer_start': [891], 'text': ['bandung']}, 'id': '5733b5344776f419006610e3'},\n",
    "    {'answers': {'answer_start': [], 'text': []}, 'id': '56e10a3be3433e1400422b22'}, \n",
    "    {'answers': {'answer_start': [], 'text': []}, 'id': '56d2051ce7d4791d0090260b'}\n",
    "]"
   ]
  },
  {
   "cell_type": "code",
   "execution_count": 34,
   "id": "957b3c9b-3e5b-4c7a-ac52-98b232054c9a",
   "metadata": {},
   "outputs": [
    {
     "data": {
      "text/plain": [
       "{'exact': 60.0,\n",
       " 'f1': 77.77777777777777,\n",
       " 'total': 5,\n",
       " 'HasAns_exact': 66.66666666666667,\n",
       " 'HasAns_f1': 96.29629629629629,\n",
       " 'HasAns_total': 3,\n",
       " 'NoAns_exact': 50.0,\n",
       " 'NoAns_f1': 50.0,\n",
       " 'NoAns_total': 2,\n",
       " 'best_exact': 60.0,\n",
       " 'best_exact_thresh': 0.0,\n",
       " 'best_f1': 77.77777777777777,\n",
       " 'best_f1_thresh': 0.0}"
      ]
     },
     "execution_count": 34,
     "metadata": {},
     "output_type": "execute_result"
    }
   ],
   "source": [
    "results = squad_metric.compute(predictions=predictions, references=references)\n",
    "results"
   ]
  },
  {
   "cell_type": "code",
   "execution_count": null,
   "id": "5613d64e-1472-4d4f-9476-60ebd8e6a87d",
   "metadata": {},
   "outputs": [],
   "source": []
  },
  {
   "cell_type": "code",
   "execution_count": null,
   "id": "134aa0c6-1ce0-431a-a9f6-a01e6e4c4a61",
   "metadata": {},
   "outputs": [],
   "source": []
  }
 ],
 "metadata": {
  "kernelspec": {
   "display_name": "Python 3 (ipykernel)",
   "language": "python",
   "name": "python3"
  },
  "language_info": {
   "codemirror_mode": {
    "name": "ipython",
    "version": 3
   },
   "file_extension": ".py",
   "mimetype": "text/x-python",
   "name": "python",
   "nbconvert_exporter": "python",
   "pygments_lexer": "ipython3",
   "version": "3.9.7"
  }
 },
 "nbformat": 4,
 "nbformat_minor": 5
}
