{
 "cells": [
  {
   "cell_type": "code",
   "execution_count": 1,
   "id": "b24b721a",
   "metadata": {},
   "outputs": [],
   "source": [
    "import os, glob, json\n",
    "import pandas as pd"
   ]
  },
  {
   "cell_type": "code",
   "execution_count": 2,
   "id": "a683ca15",
   "metadata": {},
   "outputs": [],
   "source": [
    "filepaths = glob.glob('../Webis-CausalQA-22-v-1.0/*/*/*')"
   ]
  },
  {
   "cell_type": "code",
   "execution_count": 4,
   "id": "24d7051a",
   "metadata": {},
   "outputs": [],
   "source": [
    "filepaths = list(map(lambda x: x.replace('\\\\', '/'), filepaths))"
   ]
  },
  {
   "cell_type": "code",
   "execution_count": 5,
   "id": "578fd972",
   "metadata": {},
   "outputs": [],
   "source": [
    "datasets = list(set([value.split('/')[-1].split('_')[0] for value in filepaths]))"
   ]
  },
  {
   "cell_type": "code",
   "execution_count": 6,
   "id": "a65c00bc",
   "metadata": {},
   "outputs": [
    {
     "data": {
      "text/plain": [
       "['eli5',\n",
       " 'squad2',\n",
       " 'gooaq',\n",
       " 'msmarco',\n",
       " 'newsqa',\n",
       " 'searchqa',\n",
       " 'naturalquestions',\n",
       " 'triviaqa',\n",
       " 'hotpotqa',\n",
       " 'paq']"
      ]
     },
     "execution_count": 6,
     "metadata": {},
     "output_type": "execute_result"
    }
   ],
   "source": [
    "datasets"
   ]
  },
  {
   "cell_type": "code",
   "execution_count": 7,
   "id": "b79dbee4",
   "metadata": {},
   "outputs": [],
   "source": [
    "dataset_dict = {}"
   ]
  },
  {
   "cell_type": "code",
   "execution_count": 8,
   "id": "aebbf14b",
   "metadata": {},
   "outputs": [],
   "source": [
    "for dataset in datasets:\n",
    "    for path in filepaths:\n",
    "        if dataset in path:\n",
    "            if dataset not in dataset_dict:\n",
    "                dataset_dict[dataset] = []\n",
    "            else:\n",
    "                dataset_dict[dataset].append(path)"
   ]
  },
  {
   "cell_type": "code",
   "execution_count": 9,
   "id": "6024dc52",
   "metadata": {},
   "outputs": [
    {
     "data": {
      "text/plain": [
       "dict_keys(['eli5', 'squad2', 'gooaq', 'msmarco', 'newsqa', 'searchqa', 'naturalquestions', 'triviaqa', 'hotpotqa', 'paq'])"
      ]
     },
     "execution_count": 9,
     "metadata": {},
     "output_type": "execute_result"
    }
   ],
   "source": [
    "dataset_dict.keys()"
   ]
  },
  {
   "cell_type": "code",
   "execution_count": 10,
   "id": "968ab7b0",
   "metadata": {},
   "outputs": [
    {
     "data": {
      "text/plain": [
       "['../Webis-CausalQA-22-v-1.0/input/original-splits/paq_valid_original_split.csv',\n",
       " '../Webis-CausalQA-22-v-1.0/input/random-splits/paq_train_random_split.csv',\n",
       " '../Webis-CausalQA-22-v-1.0/input/random-splits/paq_valid_random_split.csv']"
      ]
     },
     "execution_count": 10,
     "metadata": {},
     "output_type": "execute_result"
    }
   ],
   "source": [
    "dataset_dict['paq']"
   ]
  },
  {
   "cell_type": "code",
   "execution_count": 11,
   "id": "0ceb3d68",
   "metadata": {},
   "outputs": [],
   "source": [
    "d_paq_original = pd.read_csv('../Webis-CausalQA-22-v-1.0/input/original-splits/paq_valid_original_split.csv')\n",
    "# d_paq_train_random = pd.read_csv('../Webis-CausalQA-22-v-1.0/input/random-splits/paq_train_random_split.csv')\n",
    "# d_paq_valid_random = pd.read_csv('../Webis-CausalQA-22-v-1.0/input/random-splits/paq_valid_random_split.csv')"
   ]
  },
  {
   "cell_type": "code",
   "execution_count": 12,
   "id": "acbabf33",
   "metadata": {},
   "outputs": [
    {
     "data": {
      "text/html": [
       "<div>\n",
       "<style scoped>\n",
       "    .dataframe tbody tr th:only-of-type {\n",
       "        vertical-align: middle;\n",
       "    }\n",
       "\n",
       "    .dataframe tbody tr th {\n",
       "        vertical-align: top;\n",
       "    }\n",
       "\n",
       "    .dataframe thead th {\n",
       "        text-align: right;\n",
       "    }\n",
       "</style>\n",
       "<table border=\"1\" class=\"dataframe\">\n",
       "  <thead>\n",
       "    <tr style=\"text-align: right;\">\n",
       "      <th></th>\n",
       "      <th>id</th>\n",
       "      <th>question</th>\n",
       "      <th>question_processed</th>\n",
       "      <th>context</th>\n",
       "      <th>context_processed</th>\n",
       "      <th>answer</th>\n",
       "      <th>answer_processed</th>\n",
       "    </tr>\n",
       "  </thead>\n",
       "  <tbody>\n",
       "    <tr>\n",
       "      <th>0</th>\n",
       "      <td>3186130</td>\n",
       "      <td>according to the theory of underconsumption wh...</td>\n",
       "      <td>according to the theory of underconsumption wh...</td>\n",
       "      <td>(Underconsumption) says that because workers a...</td>\n",
       "      <td>(underconsumption) says that because workers a...</td>\n",
       "      <td>inadequate consumer demand</td>\n",
       "      <td>inadequate consumer demand</td>\n",
       "    </tr>\n",
       "    <tr>\n",
       "      <th>1</th>\n",
       "      <td>15312548</td>\n",
       "      <td>why did chris cross quit his job as a magician</td>\n",
       "      <td>why did chris cross quit his job as a magician</td>\n",
       "      <td>(Chris Cross (magician)) at various holiday pa...</td>\n",
       "      <td>(chris cross (magician)) at various holiday pa...</td>\n",
       "      <td>arthritis in his shoulders</td>\n",
       "      <td>arthritis in his shoulders</td>\n",
       "    </tr>\n",
       "    <tr>\n",
       "      <th>2</th>\n",
       "      <td>5707400</td>\n",
       "      <td>what does not cause variation to accumulate ov...</td>\n",
       "      <td>what does not cause variation to accumulate ov...</td>\n",
       "      <td>(Evolutionary capacitance) their presence does...</td>\n",
       "      <td>(evolutionary capacitance) their presence does...</td>\n",
       "      <td>their presence</td>\n",
       "      <td>their presence</td>\n",
       "    </tr>\n",
       "  </tbody>\n",
       "</table>\n",
       "</div>"
      ],
      "text/plain": [
       "         id                                           question  \\\n",
       "0   3186130  according to the theory of underconsumption wh...   \n",
       "1  15312548     why did chris cross quit his job as a magician   \n",
       "2   5707400  what does not cause variation to accumulate ov...   \n",
       "\n",
       "                                  question_processed  \\\n",
       "0  according to the theory of underconsumption wh...   \n",
       "1     why did chris cross quit his job as a magician   \n",
       "2  what does not cause variation to accumulate ov...   \n",
       "\n",
       "                                             context  \\\n",
       "0  (Underconsumption) says that because workers a...   \n",
       "1  (Chris Cross (magician)) at various holiday pa...   \n",
       "2  (Evolutionary capacitance) their presence does...   \n",
       "\n",
       "                                   context_processed  \\\n",
       "0  (underconsumption) says that because workers a...   \n",
       "1  (chris cross (magician)) at various holiday pa...   \n",
       "2  (evolutionary capacitance) their presence does...   \n",
       "\n",
       "                       answer            answer_processed  \n",
       "0  inadequate consumer demand  inadequate consumer demand  \n",
       "1  arthritis in his shoulders  arthritis in his shoulders  \n",
       "2              their presence              their presence  "
      ]
     },
     "execution_count": 12,
     "metadata": {},
     "output_type": "execute_result"
    }
   ],
   "source": [
    "d_paq_original.head(3)"
   ]
  },
  {
   "cell_type": "code",
   "execution_count": 13,
   "id": "c4c367ab",
   "metadata": {},
   "outputs": [
    {
     "name": "stdout",
     "output_type": "stream",
     "text": [
      "0 Q: according to the theory of underconsumption what is the main cause of recessions\n",
      "  A: inadequate consumer demand\n",
      "================================================================================\n",
      "1 Q: why did chris cross quit his job as a magician\n",
      "  A: arthritis in his shoulders\n",
      "================================================================================\n",
      "2 Q: what does not cause variation to accumulate over time in protein stabilizers\n",
      "  A: their presence\n",
      "================================================================================\n",
      "3 Q: pitch sharpening caused by the shakuhachi is called\n",
      "  A: intonation anomaly\n",
      "================================================================================\n",
      "4 Q: why did sariputra encourage upali to become an ordained monk\n",
      "  A: his caste origin\n",
      "================================================================================\n",
      "5 Q: why did stuart fletcher play bass for the stone roses\n",
      "  A: repetitive strain injury\n",
      "================================================================================\n",
      "6 Q: what is the main cause of the difference between the characters in we the animals\n",
      "  A: love of literature\n",
      "================================================================================\n",
      "7 Q: how did zeus rescue dionysus from the fire\n",
      "  A: sewing him into his thigh\n",
      "================================================================================\n",
      "8 Q: what caused the collapse of the steel pier\n",
      "  A: a storm\n",
      "================================================================================\n",
      "9 Q: how many people reported their mood had an effect on their chromesthesia\n",
      "  A: two\n",
      "================================================================================\n",
      "10 Q: what does air cause in a hydronic system\n",
      "  A: irritating system noises\n",
      "================================================================================\n",
      "11 Q: when did keeley electronics stop making effects pedals\n",
      "  A: 2009\n",
      "================================================================================\n",
      "12 Q: who stated that a 5 mph increase in the speed limit would cause a 4% increase\n",
      "  A: Insurance Institute for Highway Safety\n",
      "================================================================================\n",
      "13 Q: why do you do spin art on a canvas\n",
      "  A: to entertain and expose children\n",
      "================================================================================\n",
      "14 Q: what caused england to collapse to 81 for 5 on the first day of the 1934\n",
      "  A: Overnight rain\n",
      "================================================================================\n",
      "15 Q: inflammation linear verrucous epidermal nevus is caused by\n",
      "  A: somatic mutations\n",
      "================================================================================\n",
      "16 Q: how did the modern concept of intellectual freedom develop\n",
      "  A: an opposition to book censorship\n",
      "================================================================================\n",
      "17 Q: how much damage did hurricane bonnie cause to highways and bridges\n",
      "  A: $4 million\n",
      "================================================================================\n",
      "18 Q: why do younger clinicians feel empowered to commit acts of sexual assault\n",
      "  A: sense of power over their coworkers and employees\n",
      "================================================================================\n",
      "19 Q: which economic event caused ebenezer elliott to lose a great deal of\n",
      "  A: trade recession\n",
      "================================================================================\n",
      "20 Q: which religion was the cause of the cholera pandemic in 1817\n",
      "  A: Hindu\n",
      "================================================================================\n",
      "21 Q: what show did damaris phillips host for five years\n",
      "  A: Southern at Heart\n",
      "================================================================================\n",
      "22 Q: what causes the formation of mag cells in peripheral neuropathy cells\n",
      "  A: antibodies\n",
      "================================================================================\n",
      "23 Q: what is the cause of vascular access theft syndrome\n",
      "  A: ischemia\n",
      "================================================================================\n",
      "24 Q: which song did jimi hendrix first play with octave doubling effect pedals\n",
      "  A: Purple Haze\n",
      "================================================================================\n",
      "25 Q: why did the emc directive require all electronic equipment to be tested\n",
      "  A: to make sure it did not emit excessive electromagnetic interference\n",
      "================================================================================\n",
      "26 Q: what percentage of deaths caused by cardiovascular diseases occur in low- and middle income countries\n",
      "  A: over 80%\n",
      "================================================================================\n",
      "27 Q: what do ceiling effects prevent in science\n",
      "  A: accurate interpretation of data\n",
      "================================================================================\n",
      "28 Q: why was the charity shield not contested in 1920\n",
      "  A: the First World War\n",
      "================================================================================\n",
      "29 Q: what is the name of the virus that causes merkel cell carcinoma\n",
      "  A: Merkel cell polyomavirus\n",
      "================================================================================\n"
     ]
    }
   ],
   "source": [
    "for idx, row in d_paq_original.head(30).iterrows():\n",
    "    print(idx, \"Q:\", row.question)\n",
    "    print(\"  A:\", row.answer)\n",
    "    print(\"=\"*80)"
   ]
  },
  {
   "cell_type": "code",
   "execution_count": 19,
   "id": "21ea9acc",
   "metadata": {},
   "outputs": [
    {
     "data": {
      "text/plain": [
       "['../Webis-CausalQA-22-v-1.0/input/original-splits/squad2_valid_original_split.csv',\n",
       " '../Webis-CausalQA-22-v-1.0/input/random-splits/squad2_train_random_split.csv',\n",
       " '../Webis-CausalQA-22-v-1.0/input/random-splits/squad2_valid_random_split.csv']"
      ]
     },
     "execution_count": 19,
     "metadata": {},
     "output_type": "execute_result"
    }
   ],
   "source": [
    "dataset_dict['squad2']"
   ]
  },
  {
   "cell_type": "code",
   "execution_count": 20,
   "id": "7542703d",
   "metadata": {},
   "outputs": [],
   "source": [
    "d_squad2_original = pd.read_csv('../Webis-CausalQA-22-v-1.0/input/original-splits/squad2_valid_original_split.csv')"
   ]
  },
  {
   "cell_type": "code",
   "execution_count": 23,
   "id": "f9356bb9",
   "metadata": {},
   "outputs": [
    {
     "data": {
      "text/plain": [
       "(252, 7)"
      ]
     },
     "execution_count": 23,
     "metadata": {},
     "output_type": "execute_result"
    }
   ],
   "source": [
    "d_squad2_original.shape"
   ]
  },
  {
   "cell_type": "code",
   "execution_count": 28,
   "id": "ec10fdf8",
   "metadata": {},
   "outputs": [
    {
     "name": "stdout",
     "output_type": "stream",
     "text": [
      "0 Q: What are two factors that directly effect how powerful a Turing machine may or may not be?\n",
      "  A: ['time or space', 'time or space', 'time or space']\n",
      "======================================================================\n",
      "1 Q: Difficulty in establishing a framework for complexity classes can be caused by what variable?\n",
      "  A: ['complicated definitions', 'complicated definitions', 'definitions']\n",
      "======================================================================\n",
      "2 Q: If P is ultimately proven to be equal tot NP, what effect would this have on the efficiency of problems?\n",
      "  A: ['more efficient solutions', 'shown to have more efficient solutions', 'many important problems can be shown to have more efficient solutions']\n",
      "======================================================================\n",
      "3 Q: What kind of destruction did the 1994 earthquake cause the most of in US history?\n",
      "  A: ['property damage', 'property damage']\n",
      "======================================================================\n",
      "4 Q: What was the effect of the housing crash on the region?\n",
      "  A: ['heavily impacted', 'heavily impacted']\n",
      "======================================================================\n",
      "5 Q: What platform caused BSkyB to end their analogue service?\n",
      "  A: ['Sky Digital', 'Sky Digital', 'Sky Digital platform']\n",
      "======================================================================\n",
      "6 Q: How did the Huguenots defend themselves?\n",
      "  A: ['their own militia', 'the Huguenots had their own militia']\n",
      "======================================================================\n",
      "7 Q: What were the civil wars caused by the Huguenots called?\n",
      "  A: ['Huguenot rebellions', 'Huguenot rebellions', 'the Huguenot rebellions']\n",
      "======================================================================\n",
      "8 Q: How did the revocation restrict Huguenot travel?\n",
      "  A: ['prohibited emigration', 'prohibited emigration', 'prohibited emigration']\n",
      "======================================================================\n",
      "9 Q: Why did Berlin Huguenots switch to German from French in their services?\n",
      "  A: ['in protest against the occupation of Prussia by Napoleon', 'in protest', 'in protest against the occupation of Prussia by Napoleon']\n",
      "======================================================================\n",
      "10 Q: What European event caused the Huguenots to abandon Charlesfort?\n",
      "  A: ['The Wars of Religion', 'The Wars of Religion', 'The Wars of Religion']\n",
      "======================================================================\n",
      "11 Q: How did the new king react to the Huguenots?\n",
      "  A: ['acted increasingly aggressively to force the Huguenots to convert', 'aggressively', 'increasingly aggressively']\n",
      "======================================================================\n",
      "12 Q: How did Huguenots evolve their religious beliefs in the New World?\n",
      "  A: ['affiliated with other Protestant denominations', 'affiliated with other Protestant denominations', 'affiliated with other Protestant denominations with more numerous members']\n",
      "======================================================================\n",
      "13 Q: What happens to the lead fusible plugs if the water level of the boiler drops?\n",
      "  A: ['melts', 'melts', 'the lead melts']\n",
      "======================================================================\n",
      "14 Q: What did the use of steam engines in farming lead to?\n",
      "  A: ['increase in the land available for cultivation', 'increase in the land available for cultivation', 'farm tractors', 'an increase in the land available for cultivation']\n",
      "======================================================================\n",
      "15 Q: What did John Mayow  name the part of air that caused combustion?\n",
      "  A: ['nitroaereus', 'spiritus nitroaereus', 'spiritus nitroaereus', 'spiritus nitroaereus or just nitroaereus']\n",
      "======================================================================\n",
      "16 Q: Why is Priestley usually given credit for being first to discover oxygen?\n",
      "  A: ['published his findings first', 'he published his findings first', 'he published his findings first', 'he published his findings first', 'Because he published his findings first']\n",
      "======================================================================\n",
      "17 Q: What effect did breathing Priestley's discovered gas have on the experiment's mouse?\n",
      "  A: ['active', 'more active and lived longer', 'was more active and lived longer', 'more active and lived longer while breathing it', 'was more active and lived longer']\n",
      "======================================================================\n",
      "18 Q: Combustion is caused by an oxidant and a fuel. What role does oxygen play in combustion?\n",
      "  A: ['Oxygen is the oxidant', 'the oxidant', 'oxidant', 'oxidant', 'oxidant']\n",
      "======================================================================\n",
      "19 Q: What causes triplet oxygen to react slowly?\n",
      "  A: ['unpaired electrons', 'its unpaired electrons', 'its unpaired electrons', 'Because of its unpaired electrons', 'unpaired electrons']\n",
      "======================================================================\n",
      "20 Q: What  does ozone's characteristic to cause damage effect?\n",
      "  A: ['lung tissue', 'lung tissue', 'lung tissue', 'lung', 'lung tissue']\n",
      "======================================================================\n",
      "21 Q: The spin of what can produce a magnetic effect to oxygen molecules?\n",
      "  A: ['unpaired electrons', 'unpaired electrons', 'unpaired electrons', 'unpaired electrons in the molecule', 'unpaired electrons']\n",
      "======================================================================\n",
      "22 Q: What kind of field is necessary to produce a magnet effect in oxygen molecules?\n",
      "  A: ['magnetic field', 'magnetic', 'magnetic', 'magnetic field', 'magnetic']\n",
      "======================================================================\n",
      "23 Q: Why do polar water bodies support a higher amount of life?\n",
      "  A: ['higher oxygen content', 'higher oxygen content', 'higher oxygen content', 'higher oxygen content', 'due to their higher oxygen content']\n",
      "======================================================================\n",
      "24 Q: What is the effect on humans of oxygen?\n",
      "  A: ['mild euphoric', 'a supposed mild euphoric', 'a supposed mild euphoric', 'euphoric']\n",
      "======================================================================\n",
      "25 Q: What is the most likely effect of breathing oxygen?\n",
      "  A: ['placebo', 'placebo', 'placebo', 'a placebo effect', 'placebo']\n",
      "======================================================================\n",
      "26 Q: To what pathogen that causes gas gangrene is oxygen poisonous?\n",
      "  A: ['anaerobic bacteria', 'anaerobic bacteria', 'anaerobic bacteria', 'anaerobic bacteria', 'anaerobic bacteria']\n",
      "======================================================================\n",
      "27 Q: What characteristic of oxygen causes it to form bonds with other elements?\n",
      "  A: ['electronegativity', 'electronegativity', 'electronegativity', 'electronegativity', 'electronegativity']\n",
      "======================================================================\n",
      "28 Q: What does oxygen cause to form on metals?\n",
      "  A: ['oxide', 'a thin film of oxide', 'a thin film of oxide', 'oxide', 'a thin film of oxide']\n",
      "======================================================================\n",
      "29 Q: Pressures greater than what can lead to convulsions?\n",
      "  A: ['160 kPa', '160 kPa', '160 kPa (about 1.6 atm)', '160 kPa (about 1.6 atm)', '160 kPa']\n",
      "======================================================================\n",
      "30 Q: Why is breathing oxygen in space craft not dangerous to health?\n",
      "  A: ['low total pressures', 'low total pressures used', 'low total pressures', 'low total pressures', 'the low total pressures used']\n",
      "======================================================================\n",
      "31 Q: Why did the European nations and Japan separated themselves from United States during the crisis?\n",
      "  A: ['to avoid being targeted by the boycott', 'to avoid being targeted by the boycott', 'to avoid being targeted by the boycott', 'to avoid being targeted by the boycott', 'to avoid being targeted by the boycott']\n",
      "======================================================================\n",
      "32 Q: How did the Nixon administration negotiate with the uncooperative countries?\n",
      "  A: ['They arranged for Israel to pull back from the Sinai Peninsula and the Golan Heights.', 'multilateral', 'They arranged for Israel to pull back from the Sinai Peninsula and the Golan Heights', 'multilateral negotiations', 'multilateral']\n",
      "======================================================================\n",
      "33 Q: Why was there a depreciation of the industrialized nations dollars?\n",
      "  A: ['industrialized nations increased their reserves', 'industrialized nations increased their reserves (by expanding their money supplies) in amounts far greater than before', 'industrialized nations increased their reserves', 'industrialized nations increased their reserves', 'the industrialized nations increased their reserves']\n",
      "======================================================================\n",
      "34 Q: Why did oil start getting priced in terms of gold?\n",
      "  A: [\"oil was priced in dollars, oil producers' real income decreased\", \"Because oil was priced in dollars, oil producers' real income decreased.\", \"Because oil was priced in dollars, oil producers' real income decreased\", \"Because oil was priced in dollars, oil producers' real income decreased\", \"Because oil was priced in dollars, oil producers' real income decreased\"]\n",
      "======================================================================\n",
      "35 Q: Why did the Shah of Iran gave an interview?\n",
      "  A: ['renewal of hostilities in the Arab–Israeli conflict', 'renewal of hostilities', '.', 'the Arab–Israeli conflict released the underlying economic pressure on oil prices']\n",
      "======================================================================\n",
      "36 Q: Why did OPEC raise the price of oil to $5.11?\n",
      "  A: ['In response to American aid to Israel', 'In response to American aid to Israel', 'In response to American aid to Israel', 'In response to American aid to Israel', 'American aid to Israel']\n",
      "======================================================================\n",
      "37 Q: Why did the oil ministers agree to a cut in oil production?\n",
      "  A: ['until their economic and political objectives were met', 'In response to American aid to Israel', 'OPEC raised the posted price of oil', 'until their economic and political objectives were met']\n",
      "======================================================================\n",
      "38 Q: Why did OPEC block oil deliveries to the United States?\n",
      "  A: ['American aid to Israel', 'Nixon requested Congress to appropriate $2.2 billion in emergency aid to Israel', 'OAPEC proclaimed the embargo that curbed exports to various countries and blocked all oil deliveries to the US as a \"principal hostile country', 'OAPEC proclaimed the embargo that curbed exports to various countries', 'American aid to Israel']\n",
      "======================================================================\n",
      "39 Q: The oil crisis caused oil companies to increase oil supplies in which area?\n",
      "  A: ['Arctic', 'Arctic', 'Arctic', 'the Arctic', 'the Arctic']\n",
      "======================================================================\n",
      "40 Q: What caused UK to have an oil crisis in its own country?\n",
      "  A: ['a series of strikes', 'a series of strikes by coal miners and railroad workers', 'a series of strikes by coal miners and railroad workers', 'strikes by coal miners and railroad workers', 'a series of strikes']\n",
      "======================================================================\n",
      "41 Q: Why are newly discovered oil sold at a higher price?\n",
      "  A: ['encourage investment', 'to encourage investment', 'to encourage investment', 'to encourage investment', 'The system limited the price of \"old oil\"']\n",
      "======================================================================\n",
      "42 Q: Why was old oil withdrawn from the market?\n",
      "  A: ['Price controls', 'Price controls', 'promote oil exploration', 'discouraged development of alternative energies', 'The system limited the price of \"old oil\"']\n",
      "======================================================================\n",
      "43 Q: Why was this short termed organization created?\n",
      "  A: ['coordinate the response to the embargo', 'to coordinate the response to the embargo', 'to coordinate the response to the embargo', 'to coordinate the response to the embargo', 'to coordinate the response to the embargo']\n",
      "======================================================================\n",
      "44 Q: Why did GM, Ford and Chrysler introduced fuel-efficient and small cars to the US market?\n",
      "  A: ['An increase in imported cars', 'An increase in imported cars into North America', 'An increase in imported cars into North America', 'An increase in imported cars', 'An increase in imported cars']\n",
      "======================================================================\n",
      "45 Q: Why did Saudi Arabia try to increase production, and reduce profits for high cost producers?\n",
      "  A: ['recover market share', 'trying to recover market share', 'recover market share', 'to recover market share', 'recover market share']\n",
      "======================================================================\n",
      "46 Q: What effect does European Union law have on laws of member states?\n",
      "  A: ['direct effect or indirect effect', 'direct effect or indirect effect on the laws of European Union member states', 'direct effect or indirect effect', 'direct effect or indirect effect']\n",
      "======================================================================\n",
      "47 Q: How did the principle treaties that form the European Union begin?\n",
      "  A: ['with common rules for coal and steel, and then atomic energy', 'with common rules for coal and steel', 'with common rules for coal and steel', 'with common rules for coal and steel']\n",
      "======================================================================\n",
      "48 Q: What caused the need for principal Treaties that ended up forming the EU?\n",
      "  A: ['common rules for coal and steel, and then atomic energy', 'common rules for coal and steel, and then atomic energy', 'with common rules for coal and steel', 'with common rules for coal and steel']\n",
      "======================================================================\n",
      "49 Q: What was an additional projected effect of the attempted reform?\n",
      "  A: ['this would have also produced a single constitutional document', 'this would have also produced a single constitutional document', 'would have also produced a single constitutional document', 'this would have also produced a single constitutional document']\n",
      "======================================================================\n"
     ]
    }
   ],
   "source": [
    "for idx, row in d_squad2_original.head(50).iterrows():\n",
    "    print(idx, \"Q:\", row.question)\n",
    "    print(\"  A:\", row.answer.split('\\t'))\n",
    "    print(\"=\"*70)"
   ]
  },
  {
   "cell_type": "code",
   "execution_count": null,
   "id": "86aba796",
   "metadata": {},
   "outputs": [],
   "source": []
  }
 ],
 "metadata": {
  "kernelspec": {
   "display_name": "Python 3",
   "language": "python",
   "name": "python3"
  },
  "language_info": {
   "codemirror_mode": {
    "name": "ipython",
    "version": 3
   },
   "file_extension": ".py",
   "mimetype": "text/x-python",
   "name": "python",
   "nbconvert_exporter": "python",
   "pygments_lexer": "ipython3",
   "version": "3.7.3"
  }
 },
 "nbformat": 4,
 "nbformat_minor": 5
}
